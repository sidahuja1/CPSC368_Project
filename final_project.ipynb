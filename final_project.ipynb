{
 "cells": [
  {
   "cell_type": "code",
   "execution_count": 1,
   "metadata": {},
   "outputs": [],
   "source": [
    "import numpy as np\n",
    "import pandas as pd\n",
    "\n",
    "from sklearn.model_selection import (\n",
    "    GridSearchCV,\n",
    "    cross_val_score,\n",
    "    cross_validate,\n",
    "    train_test_split\n",
    ")\n",
    "\n",
    "import matplotlib.pyplot as plt\n"
   ]
  },
  {
   "cell_type": "markdown",
   "metadata": {},
   "source": [
    "# Introduction\n",
    "\n",
    "Our research project explores how unhealthy behaviours and local health trends influence online health-related search patterns. We research whether public health data \n",
    "predict Google search trends related to cardiovascular disease and identify key contributing factors influencing such behaviours.\n",
    "\n",
    "### Research Question\n",
    "\n",
    "1. To what extent can county-level health behaviors (e.g., smoking rates, obesity prevalence, and physical inactivity) predict the volume of cardiovascular-related Google searches in 2014?\n",
    "\n",
    "\n",
    "2. Which specific health behaviors have the greatest impact on predicting cardiovascular-related search volume, according to SHAP values from the best-performing machine learning model?\n",
    "\n",
    "\n",
    "3. How do regional differences in public health behaviors influence the types of health-related concerns people search for online?\n",
    "\n",
    "### Impact\n",
    "\n",
    "Understanding the extent to which health behaviours influence cardiovascualr related search interest can help the public health officials anticipate informational needs in communities before real clinical issues arise. By knowing which unhealthy behaviours like smoking, obesity, lack of physical activity are most strongly associated with online health-seeking behaviour, we can better adjust public education and intervention strategies. Furthermore, knowing which factors most impact cardiovascular related searches through SHAP values provides insight into predictive models and allows for more focused prevention efforts. This can also serve as a supplementary surveillance tool for monitoring public health needs and concern, offering a proactive way to detect and address emerging health concerns before they cause an outbreak.\n",
    "\n",
    "### Related Work\n",
    "\n",
    "The use of online data sources to understand health trends has been a growing area of research with the large-scale health databses anmd internet based behavioural signals like Google Trends. Previous research demonstreates the imprtance of this work by highlighting the how online seach data can reflect population level health trends, awareness, and even disease forecasting.\n",
    "\n",
    "One of the most influencial studies in this field was conducted by **Yang et al. (2015)**[1], who introduced a method called the AutoRegression with Google search data (ARGO) to predict influenza trends by combining historical surveillance data with Google search frequencies. Their paper explains how online search patterns can closely track real-world data disease trends, setting an example for using search data for our own research research questions.\n",
    "\n",
    "Secondly, **Tran et al. (2015)**[2] analyzed Google Trends to assess public interest in cardiovascular disease. They found that cardiovascualr related searches reached a peak during awareness months and major news events. This suggests that population level interest in heart health is both timely and reactive to real world conditions. This supports the idea thjat cardiovasculat related searches are important indicators of public health concerns.\n",
    "\n",
    "Lastly, **Barros et al. (2020)**[3] conducted a systematic review on public health surveillance studies using internet based data, including search engine queries and social media. Their findings confirm that behaviours like smoking and obesity are frequently monitored using digital signals, especially traditional surveillance systems are delayed or unavailable.\n",
    "\n",
    "These studies give us strong support for our research questions. They show that search data is not only reactive to real world events but also a potentially predictive tool when paired with public health data."
   ]
  },
  {
   "cell_type": "markdown",
   "metadata": {},
   "source": [
    "### Data\n",
    "\n"
   ]
  },
  {
   "cell_type": "markdown",
   "metadata": {},
   "source": [
    "### References\n",
    "\n",
    "[1] Yang, S., Santillana, M., & Kou, S. C. (2015). Accurate estimation of influenza epidemics using Google search data via ARGO. *Proceedings of the National Academy of Sciences*, 112(47), 14473–14478. https://doi.org/10.1073/pnas.1515373112\n",
    "\n",
    "[2] Tran, T. H., et al. (2017). Use of Google Trends to examine interest in cardiovascular diseases. *American Journal of Cardiology*, 119(8), 1190–1195.\n",
    "\n",
    "[3] Barros, J. M., Duggan, J., & Rebholz-Schuhmann, D. (2020). The application of internet-based sources for public health surveillance (infoveillance): systematic review. *Journal of Medical Internet Research*, 22(3), e13680."
   ]
  }
 ],
 "metadata": {
  "kernelspec": {
   "display_name": "cpsc330",
   "language": "python",
   "name": "python3"
  },
  "language_info": {
   "codemirror_mode": {
    "name": "ipython",
    "version": 3
   },
   "file_extension": ".py",
   "mimetype": "text/x-python",
   "name": "python",
   "nbconvert_exporter": "python",
   "pygments_lexer": "ipython3",
   "version": "3.12.0"
  }
 },
 "nbformat": 4,
 "nbformat_minor": 2
}
