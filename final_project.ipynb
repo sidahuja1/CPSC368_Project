{
 "cells": [
  {
   "cell_type": "markdown",
   "metadata": {},
   "source": [
    "# Introduction\n",
    "\n",
    "Our research project explores on how unhealthy behaviours and local health trends influence online health-related search patterns. We research whether public health data \n",
    "can effectively predict Google search trends related to cardiovascular disease and identify key contributing factors influencing such behaviours.\n",
    "\n",
    "### Research Question\n",
    "\n",
    "1. To what extent can county-level health behaviors (e.g., smoking rates, obesity prevalence, and physical inactivity) predict the volume of cardiovascular-related Google searches in 2014?\n",
    "\n",
    "\n",
    "2. Which specific health behaviors have the greatest impact on predicting cardiovascular-related search volume, according to SHAP values from the best-performing machine learning model?\n",
    "\n",
    "\n",
    "3. How do regional differences in public health behaviors influence the types of health-related concerns people search for online?\n",
    "\n",
    "### Impact\n",
    "\n",
    "Understanding the extent to which health behaviours influence cardiovascualr related search interest can help the public health officials anticipate informational needs in communities before real clinical issues arise. By knowing which unhealthy behaviours like smoking, obesity, lack of physical activity are most strongly associated with online health-seeking behaviour, we can better adjust public education and intervention strategies. Furthermore, knowing which factors greatly impact cardiovascular related searches through SHAP values provides insight into predictive models and allows for more focused prevention efforts. This can also serve as a supplementary surveillance tool for monitoring public health needs and concern, offering a proactive way to detect and address emerging health concerns before they cause an outbreak.\n",
    "\n",
    "### Related Work\n",
    "\n",
    "The use of online data sources to understand health trends has been a growing area of research with the large-scale health databses and internet based behavioural signals like Google Trends. Previous research demonstreates the importance of this work by highlighting how online seach data can reflect population level health trends, awareness, and even disease forecasting.\n",
    "\n",
    "One of the most influencial studies in this field was conducted by **Yang et al. (2015)**[1], who introduced a method called the AutoRegression with Google search data (ARGO) to predict influenza trends by combining historical surveillance data with Google search frequencies. Their paper explains how online search patterns can closely track real-world data disease trends, setting an example for using search data for our own research research questions.\n",
    "\n",
    "Secondly, **Tran et al. (2015)**[2] analyzed Google Trends to assess public interest in cardiovascular disease. They found that cardiovascualr related searches reached a peak during awareness months and major news events. This suggests that population level interest in heart health is both timely and reactive to real world conditions. This supports the idea that cardiovascular related searches are important indicators of public health concerns.\n",
    "\n",
    "Lastly, **Barros et al. (2020)**[3] conducted a systematic review on public health surveillance studies using internet based data, including search engine queries and social media. Their findings confirm that behaviours like smoking and obesity are frequently monitored using digital signals, especially traditional surveillance systems are delayed or unavailable.\n",
    "\n",
    "These studies give us strong support for our research questions. They show that search data is not only reactive to real world events but also a potentially predictive tool when paired with public health data."
   ]
  },
  {
   "cell_type": "markdown",
   "metadata": {},
   "source": [
    "### Data\n",
    "\n",
    "1. https://www.kaggle.com/datasets/GoogleNewsLab/health-searches-us-county/data (Google search trends dataset)\n",
    "\n",
    "2. https://data.cdc.gov/500-Cities-Places/500-Cities-Local-Data-for-Better-Health-2016-relea/9z78-nsfp/about_data  (CDC 500 cities dataset)\n",
    "\n",
    "We selected these datasets because the CDC dataset provides behavioural health data at a city level, while the Google trends dataset reflects public interest and concern through online search behaviour. By combining them, we were able to explore how real-world health indicators relate to online search trends. These datasets combined are especially relevant to our research questions that aim to explore whether or not and how local health behaviours influence what people search for regarding cardiovascular health.\n",
    "\n",
    "For data cleaning on the Google search trends dataset, we renamed the column 'dma' to 'CityName' for a more understandble column and ensured that the last two characters in 'CityName' correspond to a state code. Then, we split 'CityName' to create a new column 'State' which contains the state code. Furthermore, we reshaped the dataframe to have Year and Condition as seperate variables and filtered to only include that from year 2014. Lastly, we pivot wideer by column 'Condition' and filtered both datasets so that only cities and states that are in both datasets are kept. The code and result of cleaning can be viewed in `ribcot_cleaning.ipynb`\n",
    "\n",
    "For data cleaning on the CDC dataset, we filtered Measurement type for AgeAdjPrv and filtered category for unhealthhy behaviours. Then we removed unnecessary columns and keeping only Year, CityName, State, Category, Measure, Data_value, Population, and CityFIPS. We also removed any entry missing either state or city name. Then, we pivot wider by column 'Measure' and renamed columns for easier downstream data usage. Lastly, we filtered datasets so that only cities and states that are in both datasets are kept. We were unable to provide the code for cleaning as the team member who cleaned it did not push their code.\n",
    "\n",
    "After both datasets are cleaned, we merged the two datasets to form a single table based on equivalent state codes using SQL. Forming a dataset containing both behavioural health data and online search behaviour.\n",
    "\n",
    "These cleaning steps were sufficient as they ensured that both datasets are standardized, interpretable, and combinable. Supporting our next research steps.\n",
    "\n",
    "While we prepared the data, we encountered a few important things to consider that could affect interpretation. First, both datasets are limited to specific cities, which meant rural areas and smaller municipals are excluded. this limits the generalizability of our findins across the entire US population. \n",
    "\n",
    "Our EDA revealed weak to moderate correlations between health behaviours and cardiovascular related serach interests. Obesity rate and no physical activity showed the strongest positive correlations, while binge drinking had the strongest negative correlation. This suggests that inactive populations may search more about cardiovascular related issues."
   ]
  },
  {
   "cell_type": "markdown",
   "metadata": {},
   "source": [
    "## Methodology\n",
    "\n",
    "To answer our first research question, we will be employing supervised machine learning models, specifically decision trees, kNN, random forest, and XGBoost. Each models effectiveness on predicting the volume of cardivascular-related Google searches will be evaluated based on their Root Mean Squared Error (RMSE) via 5-fold cross validation. We are using multiple models for prediction as we want to use the best model. RMSE is our main accuracy evaluator for quantifying the difference between predicted and actual values, and is easy to interpret.\n",
    "\n",
    "To answer our second research question, we will be using SHAP analysis to identify key features that greatly affect the model’s search trend prediction. SHAP is used in machine learning, which breaks down a prediction into a sum of contributions from each feature, which individual contributions are called feature importances. SHAP is our top pick as its conversion to numerical values allows us to easily identify specific health behaviors that greatly alter predicted cardiovascular-related search volume.\n",
    "\n",
    "To answer our third research question, we will be conducting exploratory data analysis. Specifically, we will convert the numeric search score of each region into an ordinal ranking from low, medium, to high using k-means clustering. Where each groups is them compared with other groups in health behaviors. This is method was chosen as we are focusing on discovering patterns and differences with response to searches.\n",
    "\n",
    "Pros and Cons\n",
    "\n",
    "Pros:\n",
    "- Testing four different regression models allowed for comparison across appraoches and increased the reliability of our findings.\n",
    "- Using cross validation improves internal validity by ensuring that the model performs consistently across different subsets of the data.\n",
    "- SHAP analysis values provide a way to interpret feature importance which helps us understand which health behaviours had the most influence on predictions.\n",
    "\n",
    "Cons:\n",
    "- We have a small sample size which limits how the models generalize our findings.\n",
    "- Only five health behaviours were used which can simplify the factors nfluencing cardio vascular trends which can leave out other important features like age or income."
   ]
  },
  {
   "cell_type": "markdown",
   "metadata": {},
   "source": [
    "### Results and Discussion\n",
    "\n",
    "Our study aimed to predict cardio vascular related search trends based on county level health behaviours using regression models and also to understand how the behaviours vary across clusters of search intensity.\n",
    "\n",
    "Models:\n",
    "\n",
    "Four regression models were evaluated (Decision tree, k-NN, random forest, and XGBoost) using 5-fold cross validation with RMSE as the performance metric. XGBoost performed the best with an RMSE of 12.26, which tells us that on average, the model's predictions deviated from actual values by about 12 units on the cardiovascular trend score scale. However, this shows about a 27% error relative to the mean score, suggesting predictive ability with room for improvement.\n",
    "\n",
    "SHAP Analysis:\n",
    "\n",
    "SHAP values revealed that Binge Drinking was the most influential predictor of cardiovascular search trends, then sleep deprivation and no physical activity. What was surprising to us was that obesity rate, which is a widely accepted cardiovascular risk factor, showed the lowest SHAP value, indicating it contributed the least to the model's prediction.\n",
    "\n",
    "Cluster Analysis:\n",
    "\n",
    "Using k-means clustering on the target variable (cardiovascualr search trend), three clusters were formed\n",
    "- Low (21-36)\n",
    "- Medium (37-53)\n",
    "- High (55-86)\n",
    "\n",
    "Analyzing health behaviours within these clusters showed distinct trends:\n",
    "- Smoking rate, no physical activity, and obesity rate increased with higher cardiovascular search scores\n",
    "- Binge drinking was inversely related. Cities with lower binge drinking rates tended to show higher cardiovascular related searches\n",
    "\n",
    "Graphs:\n",
    "\n",
    "The graphs are in the models.ipynb file.\n",
    "\n",
    "Validity Considerations:\n",
    "Internal Validity:\n",
    "\n",
    "    Internal validity asks whether or not the study accurately measures what it intends to measure. Our use of regression models with cross validation strengthens internal validity, as it reduces overfitting and helps ensure that the relationship between between health behaviours and search trends is consistent across subsets of the data. SHAP values further improve interpretability, showing how individual features contribute to each models prediction.\n",
    "\n",
    "External validity:\n",
    "\n",
    "    External validity asks to what extent do our findings generalize to other popuations or real world situations. Given that the dataset contains only 80 cities, the small sample size limits generalizability. Furthermore, search behaviour can be influenced by factors unrelated to helath as well, such as memdia coverage or socioeconomic variables not included in the datset. the results may not be accurate for cities not represented in teh dataset or for other countries with different healthcare systems and cultural norms. Further research can be done by exploring trends such as the inverse relationship between binge drinking and cardiovascular searches on more diverse datsets in the future.\n"
   ]
  },
  {
   "cell_type": "markdown",
   "metadata": {},
   "source": [
    "### Discussion of Results\n",
    "\n",
    "Our results showed that it is moderately possible to predict cardiovascular reltaed search trends using helath behaviours like binge drinking, smoking, physical inactivity, obesity rate, and sleep deprivation. From all the models we tested, XGBoost performed the best, but still had an average error of around 27% which is considered high. this suggests that while these health behaviours do have some connection to online search trends, they do not fully explain the entirety of the variations. It is very likely that other factors, such as media attention may also influence search behaviours but were not included in the models we tested.\n",
    "\n",
    "For our clustering, we found three main distinct groups (low, medium, high) of search activities. We observed that cities in the \"High\" clsuter tended to have higher smoking rates, less physical activity, and greater obesity. On the contrary, binge drinking showed an unexpected trend, with lower level in high search cities. This may suggest that binge drinking is not as closely linked with search trends and public concern.\n",
    "\n",
    "We believe that the relatively weak predictive performance and unexpected binge drinking trend may result from the small sample size, limited features, and the use of search data as a predictor rather than actual health statistics."
   ]
  },
  {
   "cell_type": "markdown",
   "metadata": {},
   "source": [
    "### Future Work\n",
    "\n",
    "The results we got can be helpful for public health officials, city planners, and researchers who are interested in using alternative data sources like Google search trends to explore public concern around cardiovascular health. Since we found behaviours like smoking, physcial inactivity, and obesity are strongly linked to increased search interest in cardiovascualr issues, areas showing an increase in these search trends might benefit from targeted health interventions or awareness campaigns.\n",
    "\n",
    "If we had more time and had the ability to, we would find larger datasets to test our models on. Our dataset only included 80 cities but if we had a larger datset to test on, this would greatly improve the accuracy and allow for better analysis. Exploring more features like socioeconomic status could also help us provide better insight into what drives both actual cardiovascular risk and search trends."
   ]
  },
  {
   "cell_type": "markdown",
   "metadata": {},
   "source": [
    "### References\n",
    "\n",
    "[1] Yang, S., Santillana, M., & Kou, S. C. (2015). Accurate estimation of influenza epidemics using Google search data via ARGO. *Proceedings of the National Academy of Sciences*, 112(47), 14473–14478. https://doi.org/10.1073/pnas.1515373112\n",
    "\n",
    "[2] Tran, T. H., et al. (2017). Use of Google Trends to examine interest in cardiovascular diseases. *American Journal of Cardiology*, 119(8), 1190–1195.\n",
    "\n",
    "[3] Barros, J. M., Duggan, J., & Rebholz-Schuhmann, D. (2020). The application of internet-based sources for public health surveillance (infoveillance): systematic review. *Journal of Medical Internet Research*, 22(3), e13680."
   ]
  },
  {
   "cell_type": "markdown",
   "metadata": {},
   "source": [
    "### AI Declaration\n",
    "\n",
    "We did not use AI for this project."
   ]
  },
  {
   "cell_type": "markdown",
   "metadata": {},
   "source": []
  }
 ],
 "metadata": {
  "kernelspec": {
   "display_name": "Python 3 (ipykernel)",
   "language": "python",
   "name": "python3"
  },
  "language_info": {
   "codemirror_mode": {
    "name": "ipython",
    "version": 3
   },
   "file_extension": ".py",
   "mimetype": "text/x-python",
   "name": "python",
   "nbconvert_exporter": "python",
   "pygments_lexer": "ipython3",
   "version": "3.12.8"
  }
 },
 "nbformat": 4,
 "nbformat_minor": 4
}
