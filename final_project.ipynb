{
 "cells": [
  {
   "cell_type": "code",
   "execution_count": 1,
   "metadata": {},
   "outputs": [],
   "source": [
    "import numpy as np\n",
    "import pandas as pd\n",
    "\n",
    "from sklearn.model_selection import (\n",
    "    GridSearchCV,\n",
    "    cross_val_score,\n",
    "    cross_validate,\n",
    "    train_test_split\n",
    ")\n",
    "\n",
    "import matplotlib.pyplot as plt\n"
   ]
  },
  {
   "cell_type": "markdown",
   "metadata": {},
   "source": [
    "# Introduction\n",
    "\n",
    "Our research project explores how unhealthy behaviours and local health trends influence online health-related search patterns. We research whether public health data \n",
    "predict Google search trends related to cardiovascular disease and identify key contributing factors influencing such behaviours.\n",
    "\n",
    "### Research Question\n",
    "\n",
    "1. To what extent can county-level health behaviors (e.g., smoking rates, obesity prevalence, and physical inactivity) predict the volume of cardiovascular-related Google searches in 2014?\n",
    "\n",
    "\n",
    "2. Which specific health behaviors have the greatest impact on predicting cardiovascular-related search volume, according to SHAP values from the best-performing machine learning model?\n",
    "\n",
    "\n",
    "3. How do regional differences in public health behaviors influence the types of health-related concerns people search for online?\n",
    "\n",
    "### Impact\n",
    "\n",
    "Understanding the extent to which health behaviours influence cardiovascualr related search interest can help the public health officials anticipate informational needs in communities before real clinical issues arise. By knowing which unhealthy behaviours like smoking, obesity, lack of physical activity are most strongly associated with online health-seeking behaviour, we can better adjust public education and intervention strategies. Furthermore, knowing which factors most impact cardiovascular related searches through SHAP values provides insight into predictive models and allows for more focused prevention efforts."
   ]
  }
 ],
 "metadata": {
  "kernelspec": {
   "display_name": "cpsc330",
   "language": "python",
   "name": "python3"
  },
  "language_info": {
   "codemirror_mode": {
    "name": "ipython",
    "version": 3
   },
   "file_extension": ".py",
   "mimetype": "text/x-python",
   "name": "python",
   "nbconvert_exporter": "python",
   "pygments_lexer": "ipython3",
   "version": "3.12.0"
  }
 },
 "nbformat": 4,
 "nbformat_minor": 2
}
