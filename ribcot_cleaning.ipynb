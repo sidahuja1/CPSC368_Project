{
 "cells": [
  {
   "cell_type": "code",
   "execution_count": 1,
   "metadata": {
    "colab": {
     "base_uri": "https://localhost:8080/"
    },
    "id": "iqRKsebGvFCb",
    "outputId": "1505ec97-5fee-47da-c023-4f938ee54856"
   },
   "outputs": [],
   "source": [
    "import pandas as pd\n",
    "import numpy as np\n",
    "from sklearn.model_selection import train_test_split\n",
    "import matplotlib.pyplot as plt\n",
    "import seaborn as sns"
   ]
  },
  {
   "cell_type": "markdown",
   "metadata": {
    "id": "5wpBTl3o1qTh"
   },
   "source": [
    "# Original CDC and RIBCOT\n"
   ]
  },
  {
   "cell_type": "code",
   "execution_count": 2,
   "metadata": {
    "id": "FxIIRLjhvVsD"
   },
   "outputs": [],
   "source": [
    "cdcdata = pd.read_csv('data/filtered_cities500_wide.csv')\n",
    "ribcot = pd.read_csv('data/RegionalInterestByConditionOverTime.csv')"
   ]
  },
  {
   "cell_type": "code",
   "execution_count": 3,
   "metadata": {
    "colab": {
     "base_uri": "https://localhost:8080/"
    },
    "id": "m8COb7PecVgo",
    "outputId": "c44268a6-b11e-4d0c-f809-a849e6dba933"
   },
   "outputs": [
    {
     "name": "stdout",
     "output_type": "stream",
     "text": [
      "(83, 9)\n",
      "(210, 128)\n"
     ]
    }
   ],
   "source": [
    "print(cdcdata.shape)\n",
    "print(ribcot.shape)"
   ]
  },
  {
   "cell_type": "code",
   "execution_count": 4,
   "metadata": {
    "colab": {
     "base_uri": "https://localhost:8080/"
    },
    "id": "JIZHaQJpWbJ4",
    "outputId": "8278c734-b059-494c-a390-51d749a0ece7"
   },
   "outputs": [
    {
     "name": "stdout",
     "output_type": "stream",
     "text": [
      "<class 'pandas.core.frame.DataFrame'>\n",
      "RangeIndex: 83 entries, 0 to 82\n",
      "Data columns (total 9 columns):\n",
      " #   Column              Non-Null Count  Dtype  \n",
      "---  ------              --------------  -----  \n",
      " 0   State               83 non-null     object \n",
      " 1   CityName            83 non-null     object \n",
      " 2   population2010      83 non-null     int64  \n",
      " 3   cityfips            83 non-null     int64  \n",
      " 4   bingedrinking       83 non-null     float64\n",
      " 5   smokingrate         83 non-null     float64\n",
      " 6   nophysicalactivity  83 non-null     float64\n",
      " 7   obesityrate         83 non-null     float64\n",
      " 8   sleepdeprivation    83 non-null     float64\n",
      "dtypes: float64(5), int64(2), object(2)\n",
      "memory usage: 6.0+ KB\n",
      "None\n",
      "                  dma  geoCode  2004+cancer  2004+cardiovascular  2004+stroke  \\\n",
      "0  Portland-Auburn ME      500           44                    6           17   \n",
      "1         New York NY      501           47                    6           13   \n",
      "2       Binghamton NY      502           48                    3           16   \n",
      "3            Macon GA      503           44                   14           14   \n",
      "4     Philadelphia PA      504           52                    7           16   \n",
      "\n",
      "   2004+depression  2004+rehab  2004+vaccine  2004+diarrhea  2004+obesity  \\\n",
      "0               39          21            31             14            29   \n",
      "1               38          16            33             12            27   \n",
      "2               50          12            37             24            31   \n",
      "3               37          19            49             14            29   \n",
      "4               41          23            36             14            30   \n",
      "\n",
      "   ...  2016+diabetes  2017+cancer  2017+cardiovascular  2017+stroke  \\\n",
      "0  ...             81           70                   37           83   \n",
      "1  ...             77           70                   34           53   \n",
      "2  ...             74           68                   24           71   \n",
      "3  ...             78           53                   38           62   \n",
      "4  ...             80           75                   35           61   \n",
      "\n",
      "   2017+depression  2017+rehab  2017+vaccine  2017+diarrhea  2017+obesity  \\\n",
      "0               64          56            76             66            47   \n",
      "1               56          53            79             56            52   \n",
      "2               69          44            77             78            61   \n",
      "3               46          60            47             53            41   \n",
      "4               62          75            84             69            56   \n",
      "\n",
      "   2017+diabetes  \n",
      "0             80  \n",
      "1             78  \n",
      "2             72  \n",
      "3             66  \n",
      "4             78  \n",
      "\n",
      "[5 rows x 128 columns]\n"
     ]
    }
   ],
   "source": [
    "print(cdcdata.info())\n",
    "print(ribcot.head())"
   ]
  },
  {
   "cell_type": "code",
   "execution_count": 6,
   "metadata": {
    "colab": {
     "base_uri": "https://localhost:8080/"
    },
    "id": "-4UZeY5uWufP",
    "outputId": "4cd17475-9a94-4a5e-ba62-3008856bf9a9"
   },
   "outputs": [
    {
     "name": "stdout",
     "output_type": "stream",
     "text": [
      "['AK' 'AL' 'AR' 'AZ' 'CA' 'CO' 'DC' 'FL' 'GA' 'HI' 'IA' 'IL' 'IN' 'KS'\n",
      " 'KY' 'LA' 'MD' 'MI' 'MO' 'MS' 'MT' 'NC' 'NE' 'NV' 'NY' 'OH' 'OK' 'OR'\n",
      " 'PA' 'SC' 'SD' 'TN' 'TX' 'UT' 'WA' 'WI']\n",
      "36\n"
     ]
    }
   ],
   "source": [
    "cdc_state = cdcdata['State'].unique()\n",
    "print(cdc_state)\n",
    "print(len(cdc_state))"
   ]
  },
  {
   "cell_type": "code",
   "execution_count": 7,
   "metadata": {
    "colab": {
     "base_uri": "https://localhost:8080/"
    },
    "id": "uroh8dkWXvIY",
    "outputId": "cf48c379-7578-402d-f756-e89d13671d2e"
   },
   "outputs": [
    {
     "name": "stdout",
     "output_type": "stream",
     "text": [
      "['Portland-Auburn ME' 'New York NY' 'Binghamton NY' 'Macon GA'\n",
      " 'Philadelphia PA' 'Detroit MI' 'Boston MA-Manchester NH' 'Savannah GA'\n",
      " 'Pittsburgh PA' 'Ft. Wayne IN' 'Cleveland-Akron (Canton) OH'\n",
      " 'Washington DC (Hagerstown MD)' 'Baltimore MD'\n",
      " 'Flint-Saginaw-Bay City MI' 'Buffalo NY' 'Cincinnati OH' 'Erie PA'\n",
      " 'Charlotte NC' 'Greensboro-High Point-Winston Salem NC' 'Charleston SC'\n",
      " 'Augusta GA' 'Providence RI-New Bedford MA' 'Columbus GA'\n",
      " 'Burlington VT-Plattsburgh NY' 'Atlanta GA' 'Albany GA' 'Utica NY'\n",
      " 'Indianapolis IN' 'Miami-Ft. Lauderdale FL' 'Louisville KY'\n",
      " 'Tallahassee FL-Thomasville GA' 'Tri-Cities TN-VA'\n",
      " 'Albany-Schenectady-Troy NY' 'Hartford & New Haven CT'\n",
      " 'Orlando-Daytona Beach-Melbourne FL' 'Columbus OH' 'Youngstown OH'\n",
      " 'Bangor ME' 'Rochester NY' 'Tampa-St. Petersburg (Sarasota) FL'\n",
      " 'Traverse City-Cadillac MI' 'Lexington KY' 'Dayton OH'\n",
      " 'Springfield-Holyoke MA' 'Norfolk-Portsmouth-Newport News VA'\n",
      " 'Greenville-New Bern-Washington NC' 'Columbia SC' 'Toledo OH'\n",
      " 'West Palm Beach-Ft. Pierce FL' 'Watertown NY' 'Wilmington NC'\n",
      " 'Lansing MI' 'Presque Isle ME' 'Marquette MI'\n",
      " 'Wheeling WV-Steubenville OH' 'Syracuse NY' 'Richmond-Petersburg VA'\n",
      " 'Knoxville TN' 'Lima OH' 'Bluefield-Beckley-Oak Hill WV'\n",
      " 'Raleigh-Durham (Fayetteville) NC' 'Jacksonville FL'\n",
      " 'Grand Rapids-Kalamazoo-Battle Creek MI' 'Charleston-Huntington WV'\n",
      " 'Elmira NY' 'Harrisburg-Lancaster-Lebanon-York PA'\n",
      " 'Greenville-Spartanburg SC-Asheville NC-Anderson SC' 'Harrisonburg VA'\n",
      " 'Florence-Myrtle Beach SC' 'Ft. Myers-Naples FL' 'Roanoke-Lynchburg VA'\n",
      " 'Johnstown-Altoona PA' 'Chattanooga TN' 'Salisbury MD'\n",
      " 'Wilkes Barre-Scranton PA' 'Terre Haute IN' 'Lafayette IN' 'Alpena MI'\n",
      " 'Charlottesville VA' 'South Bend-Elkhart IN' 'Gainesville FL'\n",
      " 'Zanesville OH' 'Parkersburg WV' 'Clarksburg-Weston WV'\n",
      " 'Corpus Christi TX' 'Chicago IL' 'Joplin MO-Pittsburg KS'\n",
      " 'Columbia-Jefferson City MO' 'Topeka KS' 'Dothan AL' 'St. Louis MO'\n",
      " 'Rockford IL' 'Rochester MN-Mason City IA-Austin MN' 'Shreveport LA'\n",
      " 'Minneapolis-St. Paul MN' 'Kansas City MO' 'Milwaukee WI' 'Houston TX'\n",
      " 'Springfield MO' 'New Orleans LA' 'Dallas-Ft. Worth TX' 'Sioux City IA'\n",
      " 'Waco-Temple-Bryan TX' 'Victoria TX' 'Wichita Falls TX & Lawton OK'\n",
      " 'Monroe LA-El Dorado AR' 'Birmingham AL' 'Ottumwa IA-Kirksville MO'\n",
      " 'Paducah KY-Cape Girardeau MO-Harrisburg-Mount Vernon IL'\n",
      " 'Odessa-Midland TX' 'Amarillo TX' 'Austin TX'\n",
      " 'Harlingen-Weslaco-Brownsville-McAllen TX'\n",
      " 'Cedar Rapids-Waterloo-Iowa City & Dubuque IA' 'St. Joseph MO'\n",
      " 'Jackson TN' 'Memphis TN' 'San Antonio TX' 'Lafayette LA'\n",
      " 'Lake Charles LA' 'Alexandria LA' 'Greenwood-Greenville MS'\n",
      " 'Champaign & Springfield-Decatur IL' 'Evansville IN' 'Oklahoma City OK'\n",
      " 'Lubbock TX' 'Omaha NE' 'Panama City FL' 'Sherman TX-Ada OK'\n",
      " 'Green Bay-Appleton WI' 'Nashville TN' 'San Angelo TX'\n",
      " 'Abilene-Sweetwater TX' 'Madison WI'\n",
      " 'Ft. Smith-Fayetteville-Springdale-Rogers AR' 'Tulsa OK'\n",
      " 'Columbus-Tupelo-West Point MS' 'Peoria-Bloomington IL'\n",
      " 'Duluth MN-Superior WI' 'Wichita-Hutchinson KS' 'Des Moines-Ames IA'\n",
      " 'Davenport IA-Rock Island-Moline IL'\n",
      " 'Mobile AL-Pensacola (Ft. Walton Beach) FL'\n",
      " 'Minot-Bismarck-Dickinson(Williston) ND'\n",
      " 'Huntsville-Decatur (Florence) AL' 'Beaumont-Port Arthur TX'\n",
      " 'Little Rock-Pine Bluff AR' 'Montgomery (Selma) AL'\n",
      " 'La Crosse-Eau Claire WI' 'Wausau-Rhinelander WI'\n",
      " 'Tyler-Longview(Lufkin & Nacogdoches) TX' 'Hattiesburg-Laurel MS'\n",
      " 'Meridian MS' 'Baton Rouge LA' 'Quincy IL-Hannibal MO-Keokuk IA'\n",
      " 'Jackson MS' 'Lincoln & Hastings-Kearney NE' 'Fargo-Valley City ND'\n",
      " 'Sioux Falls(Mitchell) SD' 'Jonesboro AR' 'Bowling Green KY' 'Mankato MN'\n",
      " 'North Platte NE' 'Anchorage AK' 'Honolulu HI' 'Fairbanks AK'\n",
      " 'Biloxi-Gulfport MS' 'Juneau AK' 'Laredo TX' 'Denver CO'\n",
      " 'Colorado Springs-Pueblo CO' 'Phoenix AZ' 'Butte-Bozeman MT'\n",
      " 'Great Falls MT' 'Billings, MT' 'Boise ID' 'Idaho Falls-Pocatello ID'\n",
      " 'Cheyenne WY-Scottsbluff NE' 'Twin Falls ID' 'Missoula MT'\n",
      " 'Rapid City SD' 'El Paso TX' 'Helena MT' 'Casper-Riverton WY'\n",
      " 'Salt Lake City UT' 'Yuma AZ-El Centro CA' 'Grand Junction-Montrose CO'\n",
      " 'Tucson (Sierra Vista) AZ' 'Albuquerque-Santa Fe NM' 'Glendive MT'\n",
      " 'Bakersfield CA' 'Eugene OR' 'Eureka CA' 'Los Angeles CA'\n",
      " 'Palm Springs CA' 'San Francisco-Oakland-San Jose CA'\n",
      " 'Yakima-Pasco-Richland-Kennewick WA' 'Reno NV' 'Medford-Klamath Falls OR'\n",
      " 'Seattle-Tacoma WA' 'Portland OR' 'Bend OR' 'San Diego CA'\n",
      " 'Monterey-Salinas CA' 'Las Vegas NV'\n",
      " 'Santa Barbara-Santa Maria-San Luis Obispo CA'\n",
      " 'Sacramento-Stockton-Modesto CA' 'Fresno-Visalia CA' 'Chico-Redding CA'\n",
      " 'Spokane WA']\n",
      "210\n"
     ]
    }
   ],
   "source": [
    "ribcot_dma = ribcot['dma'].unique()\n",
    "print(ribcot_dma)\n",
    "print(len(ribcot_dma))"
   ]
  },
  {
   "cell_type": "code",
   "execution_count": 8,
   "metadata": {
    "colab": {
     "base_uri": "https://localhost:8080/"
    },
    "id": "DpdPfMIfadY5",
    "outputId": "2a7cd0be-e131-4d7c-c068-1199bff0856d"
   },
   "outputs": [
    {
     "name": "stdout",
     "output_type": "stream",
     "text": [
      "['Portland-Auburn ME' 'New York NY' 'Binghamton NY' 'Macon GA'\n",
      " 'Philadelphia PA' 'Detroit MI' 'Boston MA-Manchester NH' 'Savannah GA'\n",
      " 'Pittsburgh PA' 'Ft. Wayne IN' 'Cleveland-Akron (Canton) OH'\n",
      " 'Washington DC' 'Baltimore MD' 'Flint-Saginaw-Bay City MI' 'Buffalo NY'\n",
      " 'Cincinnati OH' 'Erie PA' 'Charlotte NC'\n",
      " 'Greensboro-High Point-Winston Salem NC' 'Charleston SC' 'Augusta GA'\n",
      " 'Providence RI-New Bedford MA' 'Columbus GA'\n",
      " 'Burlington VT-Plattsburgh NY' 'Atlanta GA' 'Albany GA' 'Utica NY'\n",
      " 'Indianapolis IN' 'Miami-Ft. Lauderdale FL' 'Louisville KY'\n",
      " 'Tallahassee FL-Thomasville GA' 'Tri-Cities TN-VA'\n",
      " 'Albany-Schenectady-Troy NY' 'Hartford & New Haven CT'\n",
      " 'Orlando-Daytona Beach-Melbourne FL' 'Columbus OH' 'Youngstown OH'\n",
      " 'Bangor ME' 'Rochester NY' 'Tampa-St. Petersburg (Sarasota) FL'\n",
      " 'Traverse City-Cadillac MI' 'Lexington KY' 'Dayton OH'\n",
      " 'Springfield-Holyoke MA' 'Norfolk-Portsmouth-Newport News VA'\n",
      " 'Greenville-New Bern-Washington NC' 'Columbia SC' 'Toledo OH'\n",
      " 'West Palm Beach-Ft. Pierce FL' 'Watertown NY' 'Wilmington NC'\n",
      " 'Lansing MI' 'Presque Isle ME' 'Marquette MI'\n",
      " 'Wheeling WV-Steubenville OH' 'Syracuse NY' 'Richmond-Petersburg VA'\n",
      " 'Knoxville TN' 'Lima OH' 'Bluefield-Beckley-Oak Hill WV'\n",
      " 'Raleigh-Durham (Fayetteville) NC' 'Jacksonville FL'\n",
      " 'Grand Rapids-Kalamazoo-Battle Creek MI' 'Charleston-Huntington WV'\n",
      " 'Elmira NY' 'Harrisburg-Lancaster-Lebanon-York PA'\n",
      " 'Greenville-Spartanburg SC-Asheville NC-Anderson SC' 'Harrisonburg VA'\n",
      " 'Florence-Myrtle Beach SC' 'Ft. Myers-Naples FL' 'Roanoke-Lynchburg VA'\n",
      " 'Johnstown-Altoona PA' 'Chattanooga TN' 'Salisbury MD'\n",
      " 'Wilkes Barre-Scranton PA' 'Terre Haute IN' 'Lafayette IN' 'Alpena MI'\n",
      " 'Charlottesville VA' 'South Bend-Elkhart IN' 'Gainesville FL'\n",
      " 'Zanesville OH' 'Parkersburg WV' 'Clarksburg-Weston WV'\n",
      " 'Corpus Christi TX' 'Chicago IL' 'Joplin MO-Pittsburg KS'\n",
      " 'Columbia-Jefferson City MO' 'Topeka KS' 'Dothan AL' 'St. Louis MO'\n",
      " 'Rockford IL' 'Rochester MN-Mason City IA-Austin MN' 'Shreveport LA'\n",
      " 'Minneapolis-St. Paul MN' 'Kansas City MO' 'Milwaukee WI' 'Houston TX'\n",
      " 'Springfield MO' 'New Orleans LA' 'Dallas-Ft. Worth TX' 'Sioux City IA'\n",
      " 'Waco-Temple-Bryan TX' 'Victoria TX' 'Wichita Falls TX & Lawton OK'\n",
      " 'Monroe LA-El Dorado AR' 'Birmingham AL' 'Ottumwa IA-Kirksville MO'\n",
      " 'Paducah KY-Cape Girardeau MO-Harrisburg-Mount Vernon IL'\n",
      " 'Odessa-Midland TX' 'Amarillo TX' 'Austin TX'\n",
      " 'Harlingen-Weslaco-Brownsville-McAllen TX'\n",
      " 'Cedar Rapids-Waterloo-Iowa City & Dubuque IA' 'St. Joseph MO'\n",
      " 'Jackson TN' 'Memphis TN' 'San Antonio TX' 'Lafayette LA'\n",
      " 'Lake Charles LA' 'Alexandria LA' 'Greenwood-Greenville MS'\n",
      " 'Champaign & Springfield-Decatur IL' 'Evansville IN' 'Oklahoma City OK'\n",
      " 'Lubbock TX' 'Omaha NE' 'Panama City FL' 'Sherman TX-Ada OK'\n",
      " 'Green Bay-Appleton WI' 'Nashville TN' 'San Angelo TX'\n",
      " 'Abilene-Sweetwater TX' 'Madison WI'\n",
      " 'Ft. Smith-Fayetteville-Springdale-Rogers AR' 'Tulsa OK'\n",
      " 'Columbus-Tupelo-West Point MS' 'Peoria-Bloomington IL'\n",
      " 'Duluth MN-Superior WI' 'Wichita-Hutchinson KS' 'Des Moines-Ames IA'\n",
      " 'Davenport IA-Rock Island-Moline IL'\n",
      " 'Mobile AL-Pensacola (Ft. Walton Beach) FL'\n",
      " 'Minot-Bismarck-Dickinson(Williston) ND'\n",
      " 'Huntsville-Decatur (Florence) AL' 'Beaumont-Port Arthur TX'\n",
      " 'Little Rock-Pine Bluff AR' 'Montgomery (Selma) AL'\n",
      " 'La Crosse-Eau Claire WI' 'Wausau-Rhinelander WI'\n",
      " 'Tyler-Longview(Lufkin & Nacogdoches) TX' 'Hattiesburg-Laurel MS'\n",
      " 'Meridian MS' 'Baton Rouge LA' 'Quincy IL-Hannibal MO-Keokuk IA'\n",
      " 'Jackson MS' 'Lincoln & Hastings-Kearney NE' 'Fargo-Valley City ND'\n",
      " 'Sioux Falls(Mitchell) SD' 'Jonesboro AR' 'Bowling Green KY' 'Mankato MN'\n",
      " 'North Platte NE' 'Anchorage AK' 'Honolulu HI' 'Fairbanks AK'\n",
      " 'Biloxi-Gulfport MS' 'Juneau AK' 'Laredo TX' 'Denver CO'\n",
      " 'Colorado Springs-Pueblo CO' 'Phoenix AZ' 'Butte-Bozeman MT'\n",
      " 'Great Falls MT' 'Billings, MT' 'Boise ID' 'Idaho Falls-Pocatello ID'\n",
      " 'Cheyenne WY-Scottsbluff NE' 'Twin Falls ID' 'Missoula MT'\n",
      " 'Rapid City SD' 'El Paso TX' 'Helena MT' 'Casper-Riverton WY'\n",
      " 'Salt Lake City UT' 'Yuma AZ-El Centro CA' 'Grand Junction-Montrose CO'\n",
      " 'Tucson (Sierra Vista) AZ' 'Albuquerque-Santa Fe NM' 'Glendive MT'\n",
      " 'Bakersfield CA' 'Eugene OR' 'Eureka CA' 'Los Angeles CA'\n",
      " 'Palm Springs CA' 'San Francisco-Oakland-San Jose CA'\n",
      " 'Yakima-Pasco-Richland-Kennewick WA' 'Reno NV' 'Medford-Klamath Falls OR'\n",
      " 'Seattle-Tacoma WA' 'Portland OR' 'Bend OR' 'San Diego CA'\n",
      " 'Monterey-Salinas CA' 'Las Vegas NV'\n",
      " 'Santa Barbara-Santa Maria-San Luis Obispo CA'\n",
      " 'Sacramento-Stockton-Modesto CA' 'Fresno-Visalia CA' 'Chico-Redding CA'\n",
      " 'Spokane WA']\n"
     ]
    }
   ],
   "source": [
    "ribcot['dma'] = ribcot['dma'].str.replace(' (Hagerstown MD)', '', regex=False)\n",
    "print(ribcot['dma'].unique())"
   ]
  },
  {
   "cell_type": "code",
   "execution_count": 9,
   "metadata": {
    "id": "e5w9hhkCYBMw"
   },
   "outputs": [],
   "source": [
    "def get_last_two_chars(dma):\n",
    "  \"\"\"\n",
    "  Extracts the last two characters of a DMA string.\n",
    "\n",
    "  Args:\n",
    "    dma: The DMA string.\n",
    "\n",
    "  Returns:\n",
    "    The last two characters of the DMA string, or the original string if it has fewer than two characters.\n",
    "  \"\"\"\n",
    "  if len(dma) >= 2 :\n",
    "    return dma[-2:]\n",
    "  else:\n",
    "    return dma\n"
   ]
  },
  {
   "cell_type": "code",
   "execution_count": 10,
   "metadata": {
    "colab": {
     "base_uri": "https://localhost:8080/"
    },
    "id": "h4By6nzgYbg1",
    "outputId": "dd361e90-08e7-48dd-e6e4-0030e63d4218"
   },
   "outputs": [
    {
     "name": "stdout",
     "output_type": "stream",
     "text": [
      "                  dma  geoCode  2004+cancer  2004+cardiovascular  2004+stroke  \\\n",
      "0  Portland-Auburn ME      500           44                    6           17   \n",
      "1         New York NY      501           47                    6           13   \n",
      "2       Binghamton NY      502           48                    3           16   \n",
      "3            Macon GA      503           44                   14           14   \n",
      "4     Philadelphia PA      504           52                    7           16   \n",
      "\n",
      "   2004+depression  2004+rehab  2004+vaccine  2004+diarrhea  2004+obesity  \\\n",
      "0               39          21            31             14            29   \n",
      "1               38          16            33             12            27   \n",
      "2               50          12            37             24            31   \n",
      "3               37          19            49             14            29   \n",
      "4               41          23            36             14            30   \n",
      "\n",
      "   ...  2017+cancer  2017+cardiovascular  2017+stroke  2017+depression  \\\n",
      "0  ...           70                   37           83               64   \n",
      "1  ...           70                   34           53               56   \n",
      "2  ...           68                   24           71               69   \n",
      "3  ...           53                   38           62               46   \n",
      "4  ...           75                   35           61               62   \n",
      "\n",
      "   2017+rehab  2017+vaccine  2017+diarrhea  2017+obesity  2017+diabetes  State  \n",
      "0          56            76             66            47             80     ME  \n",
      "1          53            79             56            52             78     NY  \n",
      "2          44            77             78            61             72     NY  \n",
      "3          60            47             53            41             66     GA  \n",
      "4          75            84             69            56             78     PA  \n",
      "\n",
      "[5 rows x 129 columns]\n"
     ]
    }
   ],
   "source": [
    "ribcot['State'] = ribcot['dma'].map(get_last_two_chars)\n",
    "print(ribcot.head())\n"
   ]
  },
  {
   "cell_type": "code",
   "execution_count": 11,
   "metadata": {
    "colab": {
     "base_uri": "https://localhost:8080/"
    },
    "id": "OljfDBRMYm0i",
    "outputId": "4e16d30e-2db8-4a19-c98b-6eeacc58036f"
   },
   "outputs": [
    {
     "name": "stdout",
     "output_type": "stream",
     "text": [
      "['ME' 'NY' 'GA' 'PA' 'MI' 'NH' 'IN' 'OH' 'DC' 'MD' 'NC' 'SC' 'MA' 'FL'\n",
      " 'KY' 'VA' 'CT' 'TN' 'WV' 'TX' 'IL' 'KS' 'MO' 'AL' 'MN' 'LA' 'WI' 'IA'\n",
      " 'OK' 'AR' 'MS' 'NE' 'ND' 'SD' 'AK' 'HI' 'CO' 'AZ' 'MT' 'ID' 'WY' 'UT'\n",
      " 'CA' 'NM' 'OR' 'WA' 'NV']\n",
      "47\n",
      "Common states: {'GA', 'TN', 'SD', 'NC', 'AZ', 'DC', 'MT', 'OK', 'UT', 'OH', 'MI', 'SC', 'NV', 'AR', 'CO', 'MD', 'NY', 'OR', 'IA', 'CA', 'LA', 'AK', 'WI', 'IN', 'FL', 'KS', 'TX', 'WA', 'AL', 'KY', 'IL', 'PA', 'NE', 'HI', 'MS', 'MO'}\n",
      "States in ribcot but not in cdc: {'MN', 'VA', 'ID', 'ME', 'WV', 'ND', 'NH', 'WY', 'NM', 'CT', 'MA'}\n",
      "States in cdc but not in ribcot: set()\n"
     ]
    }
   ],
   "source": [
    "ribcot_state = ribcot['State'].unique()\n",
    "print(ribcot_state)\n",
    "print(len(ribcot['State'].unique()))\n",
    "\n",
    "# Compare ribcot_state and cdc_state\n",
    "common_states = set(ribcot_state) & set(cdc_state)\n",
    "print(f\"Common states: {common_states}\")\n",
    "\n",
    "different_ribcot_states = set(ribcot_state) - set(cdc_state)\n",
    "print(f\"States in ribcot but not in cdc: {different_ribcot_states}\")\n",
    "\n",
    "different_cdc_states = set(cdc_state) - set(ribcot_state)\n",
    "print(f\"States in cdc but not in ribcot: {different_cdc_states}\")\n"
   ]
  },
  {
   "cell_type": "markdown",
   "metadata": {
    "id": "9G5khoKgbfgp"
   },
   "source": [
    "Rhode Island, Delware, Vermont, and New Jersey are not in RIBCOT, US is not a real code"
   ]
  },
  {
   "cell_type": "code",
   "execution_count": 12,
   "metadata": {
    "colab": {
     "base_uri": "https://localhost:8080/"
    },
    "id": "cDfydyLJdK3g",
    "outputId": "a040b29c-e70a-4367-955d-36bc524f38f1"
   },
   "outputs": [
    {
     "name": "stdout",
     "output_type": "stream",
     "text": [
      "['2004+cancer', '2004+cardiovascular', '2004+stroke', '2004+depression', '2004+rehab', '2004+vaccine', '2004+diarrhea', '2004+obesity', '2004+diabetes', '2005+cancer', '2005+cardiovascular', '2005+stroke', '2005+depression', '2005+rehab', '2005+vaccine', '2005+diarrhea', '2005+obesity', '2005+diabetes', '2006+cancer', '2006+cardiovascular', '2006+stroke', '2006+depression', '2006+rehab', '2006+vaccine', '2006+diarrhea', '2006+obesity', '2006+diabetes', '2007+cancer', '2007+cardiovascular', '2007+stroke', '2007+depression', '2007+rehab', '2007+vaccine', '2007+diarrhea', '2007+obesity', '2007+diabetes', '2008+cancer', '2008+cardiovascular', '2008+stroke', '2008+depression', '2008+rehab', '2008+vaccine', '2008+diarrhea', '2008+obesity', '2008+diabetes', '2009+cancer', '2009+cardiovascular', '2009+stroke', '2009+depression', '2009+rehab', '2009+vaccine', '2009+diarrhea', '2009+obesity', '2009+diabetes', '2010+cancer', '2010+cardiovascular', '2010+stroke', '2010+depression', '2010+rehab', '2010+vaccine', '2010+diarrhea', '2010+obesity', '2010+diabetes', '2011+cancer', '2011+cardiovascular', '2011+stroke', '2011+depression', '2011+rehab', '2011+vaccine', '2011+diarrhea', '2011+obesity', '2011+diabetes', '2012+cancer', '2012+cardiovascular', '2012+stroke', '2012+depression', '2012+rehab', '2012+vaccine', '2012+diarrhea', '2012+obesity', '2012+diabetes', '2013+cancer', '2013+cardiovascular', '2013+stroke', '2013+depression', '2013+rehab', '2013+vaccine', '2013+diarrhea', '2013+obesity', '2013+diabetes', '2014+cancer', '2014+cardiovascular', '2014+stroke', '2014+depression', '2014+rehab', '2014+vaccine', '2014+diarrhea', '2014+obesity', '2014+diabetes', '2015+cancer', '2015+cardiovascular', '2015+stroke', '2015+depression', '2015+rehab', '2015+vaccine', '2015+diarrhea', '2015+obesity', '2015+diabetes', '2016+cancer', '2016+cardiovascular', '2016+stroke', '2016+depression', '2016+rehab', '2016+vaccine', '2016+diarrhea', '2016+obesity', '2016+diabetes', '2017+cancer', '2017+cardiovascular', '2017+stroke', '2017+depression', '2017+rehab', '2017+vaccine', '2017+diarrhea', '2017+obesity', '2017+diabetes']\n"
     ]
    }
   ],
   "source": [
    "plus_columns = [col for col in ribcot.columns if '+' in col]\n",
    "print(plus_columns)\n"
   ]
  },
  {
   "cell_type": "code",
   "execution_count": 13,
   "metadata": {
    "colab": {
     "base_uri": "https://localhost:8080/"
    },
    "id": "X3TMBk1UfHi3",
    "outputId": "7931b8f0-e3ff-4113-ba18-6e409bfc4946"
   },
   "outputs": [
    {
     "name": "stdout",
     "output_type": "stream",
     "text": [
      "                  dma State  geoCode         temp  value\n",
      "0  Portland-Auburn ME    ME      500  2004+cancer     44\n",
      "1         New York NY    NY      501  2004+cancer     47\n",
      "2       Binghamton NY    NY      502  2004+cancer     48\n",
      "3            Macon GA    GA      503  2004+cancer     44\n",
      "4     Philadelphia PA    PA      504  2004+cancer     52\n",
      "(26460, 5)\n"
     ]
    }
   ],
   "source": [
    "ribcot_long = pd.melt(ribcot, id_vars=['dma', 'State', 'geoCode'],\n",
    "                      value_vars=plus_columns,\n",
    "                      var_name='temp',\n",
    "                      value_name='value')\n",
    "\n",
    "print(ribcot_long.head())\n",
    "print(ribcot_long.shape)"
   ]
  },
  {
   "cell_type": "code",
   "execution_count": 14,
   "metadata": {
    "colab": {
     "base_uri": "https://localhost:8080/"
    },
    "id": "SH56kUtcgf1M",
    "outputId": "1bc43550-950d-4751-8208-5be9d65ea40b"
   },
   "outputs": [
    {
     "name": "stdout",
     "output_type": "stream",
     "text": [
      "                  dma State  geoCode         temp  value Condition  Year\n",
      "0  Portland-Auburn ME    ME      500  2004+cancer     44    cancer  2004\n",
      "1         New York NY    NY      501  2004+cancer     47    cancer  2004\n",
      "2       Binghamton NY    NY      502  2004+cancer     48    cancer  2004\n",
      "3            Macon GA    GA      503  2004+cancer     44    cancer  2004\n",
      "4     Philadelphia PA    PA      504  2004+cancer     52    cancer  2004\n"
     ]
    }
   ],
   "source": [
    "ribcot_long['Condition'] = ribcot_long['temp'].map(lambda y: y.split('+')[1])\n",
    "ribcot_long['Year'] = ribcot_long['temp'].map(lambda y: int(y.split('+')[0]))\n",
    "print(ribcot_long.head())"
   ]
  },
  {
   "cell_type": "code",
   "execution_count": 15,
   "metadata": {
    "id": "8Zskuu-bijec"
   },
   "outputs": [],
   "source": [
    "ribcot_long = ribcot_long.drop(columns=['temp'])\n",
    "ribcot_wide = ribcot_long.pivot(index=['dma', 'State', 'geoCode', 'Year'],\n",
    "                                columns='Condition',\n",
    "                                values='value').reset_index()\n",
    "\n",
    "\n"
   ]
  },
  {
   "cell_type": "code",
   "execution_count": 16,
   "metadata": {
    "colab": {
     "base_uri": "https://localhost:8080/"
    },
    "id": "cBVOoaIqi9U4",
    "outputId": "370a573e-91b4-4a49-9b1b-f2b9e8915186"
   },
   "outputs": [
    {
     "name": "stdout",
     "output_type": "stream",
     "text": [
      "Condition                    dma State  geoCode  Year  cancer  cardiovascular  \\\n",
      "0          Abilene-Sweetwater TX    TX      662  2004      27               0   \n",
      "1          Abilene-Sweetwater TX    TX      662  2005      51              29   \n",
      "2          Abilene-Sweetwater TX    TX      662  2006      43              38   \n",
      "3          Abilene-Sweetwater TX    TX      662  2007      55              32   \n",
      "4          Abilene-Sweetwater TX    TX      662  2008      54               7   \n",
      "\n",
      "Condition  depression  diabetes  diarrhea  obesity  rehab  stroke  vaccine  \n",
      "0                  67        45        32       28     17      16       50  \n",
      "1                  10        21        30       29     57      36       23  \n",
      "2                  21        31        57       32     36      20       36  \n",
      "3                  32        61        26       32     72      64       28  \n",
      "4                  30        43        55       21     85      61       24  \n",
      "(2940, 13)\n",
      "Index(['dma', 'State', 'geoCode', 'Year', 'cancer', 'cardiovascular',\n",
      "       'depression', 'diabetes', 'diarrhea', 'obesity', 'rehab', 'stroke',\n",
      "       'vaccine'],\n",
      "      dtype='object', name='Condition')\n"
     ]
    }
   ],
   "source": [
    "print(ribcot_wide.head())\n",
    "print(ribcot_wide.shape)\n",
    "print(ribcot_wide.columns)"
   ]
  },
  {
   "cell_type": "code",
   "execution_count": 17,
   "metadata": {
    "colab": {
     "base_uri": "https://localhost:8080/"
    },
    "id": "25QX9alDmMZx",
    "outputId": "3317f121-cfcf-4490-bf56-3d13e54e4863"
   },
   "outputs": [
    {
     "name": "stdout",
     "output_type": "stream",
     "text": [
      "<class 'pandas.core.frame.DataFrame'>\n",
      "RangeIndex: 2940 entries, 0 to 2939\n",
      "Data columns (total 13 columns):\n",
      " #   Column          Non-Null Count  Dtype \n",
      "---  ------          --------------  ----- \n",
      " 0   dma             2940 non-null   object\n",
      " 1   State           2940 non-null   object\n",
      " 2   geoCode         2940 non-null   int64 \n",
      " 3   Year            2940 non-null   int64 \n",
      " 4   cancer          2940 non-null   int64 \n",
      " 5   cardiovascular  2940 non-null   int64 \n",
      " 6   depression      2940 non-null   int64 \n",
      " 7   diabetes        2940 non-null   int64 \n",
      " 8   diarrhea        2940 non-null   int64 \n",
      " 9   obesity         2940 non-null   int64 \n",
      " 10  rehab           2940 non-null   int64 \n",
      " 11  stroke          2940 non-null   int64 \n",
      " 12  vaccine         2940 non-null   int64 \n",
      "dtypes: int64(11), object(2)\n",
      "memory usage: 298.7+ KB\n"
     ]
    }
   ],
   "source": [
    "ribcot_wide.info()"
   ]
  },
  {
   "cell_type": "code",
   "execution_count": 18,
   "metadata": {
    "id": "PU1mcKtUDHG7"
   },
   "outputs": [],
   "source": [
    "ribcot_wide.to_csv('data/ribcot.csv', index=False)\n"
   ]
  },
  {
   "cell_type": "markdown",
   "metadata": {
    "id": "tKskZwguhUZk"
   },
   "source": [
    "No Null entries, ribcot cleaning complete"
   ]
  },
  {
   "cell_type": "code",
   "execution_count": null,
   "metadata": {
    "id": "EI520pTavBtS"
   },
   "outputs": [],
   "source": []
  }
 ],
 "metadata": {
  "colab": {
   "provenance": [],
   "toc_visible": true
  },
  "kernelspec": {
   "display_name": "Python 3 (ipykernel)",
   "language": "python",
   "name": "python3"
  },
  "language_info": {
   "codemirror_mode": {
    "name": "ipython",
    "version": 3
   },
   "file_extension": ".py",
   "mimetype": "text/x-python",
   "name": "python",
   "nbconvert_exporter": "python",
   "pygments_lexer": "ipython3",
   "version": "3.12.8"
  }
 },
 "nbformat": 4,
 "nbformat_minor": 4
}
